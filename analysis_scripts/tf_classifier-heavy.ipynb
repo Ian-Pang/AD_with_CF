{
 "cells": [
  {
   "cell_type": "code",
   "execution_count": 5,
   "metadata": {},
   "outputs": [],
   "source": [
    "import numpy as np\n",
    "import matplotlib.pyplot as plt\n",
    "import h5py\n",
    "import os\n",
    "from sklearn.metrics import accuracy_score\n",
    "from sklearn.metrics import roc_auc_score\n",
    "from sklearn.metrics import roc_curve\n",
    "from sklearn.metrics import auc\n",
    "from sklearn.model_selection import train_test_split"
   ]
  },
  {
   "cell_type": "code",
   "execution_count": 6,
   "metadata": {},
   "outputs": [],
   "source": [
    "os.environ[\"CUDA_VISIBLE_DEVICES\"]=\"0\""
   ]
  },
  {
   "cell_type": "code",
   "execution_count": 7,
   "metadata": {},
   "outputs": [],
   "source": [
    "sig_data = h5py.File(\"data_files_for_AD/lifetime_1ns_5GeV.hdf5\")"
   ]
  },
  {
   "cell_type": "code",
   "execution_count": 8,
   "metadata": {},
   "outputs": [],
   "source": [
    "bg_data = h5py.File(\"data_files_for_AD/gamma_1.hdf5\")"
   ]
  },
  {
   "cell_type": "code",
   "execution_count": 9,
   "metadata": {},
   "outputs": [
    {
     "data": {
      "text/plain": [
       "<KeysViewHDF5 ['energy', 'layer_0', 'layer_1', 'layer_2', 'overflow']>"
      ]
     },
     "execution_count": 9,
     "metadata": {},
     "output_type": "execute_result"
    }
   ],
   "source": [
    "sig_data.keys()"
   ]
  },
  {
   "cell_type": "code",
   "execution_count": 10,
   "metadata": {},
   "outputs": [],
   "source": [
    "def create_dataset_wlabels(sig_data,bg_data):\n",
    "    sig_layer_0 = sig_data['layer_0'][:]/1e3\n",
    "    sig_layer_1 = sig_data['layer_1'][:]/1e3\n",
    "    sig_layer_2 = sig_data['layer_2'][:]/1e3\n",
    "    \n",
    "    sig_E0 = sig_layer_0.sum(axis=(-1, -2))\n",
    "    sig_E1 = sig_layer_1.sum(axis=(-1, -2))                    \n",
    "    sig_E2 = sig_layer_2.sum(axis=(-1, -2))\n",
    "              \n",
    "    sig_Edep = (sig_E0 + sig_E1 + sig_E2).reshape(-1,1)\n",
    "    #sig_Einc = sig_data['energy'][:]+mass\n",
    "    sig_Einc = sig_Edep/0.937\n",
    "    \n",
    "    sig_layer_0 = sig_layer_0.reshape(-1,288)\n",
    "    sig_layer_1 = sig_layer_1.reshape(-1,144)\n",
    "    sig_layer_2 = sig_layer_2.reshape(-1,72)\n",
    "    \n",
    "    sig_voxels = np.concatenate((sig_layer_0,sig_layer_1,sig_layer_2),axis=1)\n",
    "    \n",
    "    bg_layer_0 = bg_data['layer_0'][:]/1e3\n",
    "    bg_layer_1 = bg_data['layer_1'][:]/1e3\n",
    "    bg_layer_2 = bg_data['layer_2'][:]/1e3\n",
    "                             \n",
    "    bg_E0 = bg_layer_0.sum(axis=(-1, -2))\n",
    "    bg_E1 = bg_layer_1.sum(axis=(-1, -2))                       \n",
    "    bg_E2 = bg_layer_2.sum(axis=(-1, -2))\n",
    "    \n",
    "    bg_Edep = (bg_E0 + bg_E1 + bg_E2).reshape(-1,1)\n",
    "    #bg_Einc = bg_data['energy'][:]\n",
    "    bg_Einc = bg_Edep/0.937\n",
    "    \n",
    "    bg_layer_0 = bg_layer_0.reshape(-1,288)\n",
    "    bg_layer_1 = bg_layer_1.reshape(-1,144)\n",
    "    bg_layer_2 = bg_layer_2.reshape(-1,72)\n",
    "    \n",
    "    bg_voxels = np.concatenate((bg_layer_0,bg_layer_1,bg_layer_2),axis=1)\n",
    "    \n",
    "    sig_voxels = sig_voxels/(sig_Einc.reshape(-1,1)+1e-16)\n",
    "    bg_voxels = bg_voxels/(bg_Einc.reshape(-1,1)+1e-16)\n",
    "    \n",
    "    final_sig_data = np.concatenate([np.log10(sig_Einc.reshape(-1,1)+1e-16), sig_voxels], axis=1)\n",
    "    final_bg_data = np.concatenate([np.log10(bg_Einc.reshape(-1,1)+1e-16), bg_voxels], axis=1)\n",
    "    \n",
    "    sig_labels = np.ones_like(sig_Einc.reshape(-1,1))\n",
    "    bg_labels = np.zeros_like(bg_Einc.reshape(-1,1))\n",
    "\n",
    "    X = np.concatenate([final_sig_data,final_bg_data],axis=0)\n",
    "    y = np.concatenate([sig_labels,bg_labels],axis=0)\n",
    "\n",
    "    return X, y"
   ]
  },
  {
   "cell_type": "code",
   "execution_count": 11,
   "metadata": {},
   "outputs": [],
   "source": [
    "mass = 5\n",
    "X,y = create_dataset_wlabels(sig_data,bg_data)\n",
    "X_train, X_test, y_train, y_test = train_test_split(X, y, test_size=0.2, random_state=1)\n",
    "X_train, X_val, y_train, y_val = train_test_split(X_train, y_train, test_size=0.25, random_state=1)"
   ]
  },
  {
   "cell_type": "code",
   "execution_count": 12,
   "metadata": {},
   "outputs": [
    {
     "name": "stdout",
     "output_type": "stream",
     "text": [
      "X_train shape:  (120000, 505)\n",
      "X_val shape:  (40000, 505)\n",
      "X_test shape:  (40000, 505)\n",
      "y_train shape:  (120000, 1)\n",
      "y_val shape:  (40000, 1)\n",
      "y_test shape:  (40000, 1)\n"
     ]
    }
   ],
   "source": [
    "print(\"X_train shape: \",X_train.shape)\n",
    "print(\"X_val shape: \",X_val.shape)\n",
    "print(\"X_test shape: \",X_test.shape)\n",
    "\n",
    "print(\"y_train shape: \",y_train.shape)\n",
    "print(\"y_val shape: \",y_val.shape)\n",
    "print(\"y_test shape: \",y_test.shape)"
   ]
  },
  {
   "cell_type": "code",
   "execution_count": 13,
   "metadata": {},
   "outputs": [
    {
     "name": "stderr",
     "output_type": "stream",
     "text": [
      "2023-12-15 08:06:47.294080: I tensorflow/core/platform/cpu_feature_guard.cc:182] This TensorFlow binary is optimized to use available CPU instructions in performance-critical operations.\n",
      "To enable the following instructions: AVX2 AVX512F FMA, in other operations, rebuild TensorFlow with the appropriate compiler flags.\n",
      "2023-12-15 08:06:50.222201: W tensorflow/compiler/tf2tensorrt/utils/py_utils.cc:38] TF-TRT Warning: Could not find TensorRT\n",
      "2023-12-15 08:06:53.092886: W tensorflow/core/common_runtime/gpu/gpu_device.cc:1960] Cannot dlopen some GPU libraries. Please make sure the missing libraries mentioned above are installed properly if you would like to use GPU. Follow the guide at https://www.tensorflow.org/install/gpu for how to download and setup the required libraries for your platform.\n",
      "Skipping registering GPU devices...\n"
     ]
    }
   ],
   "source": [
    "from keras.models import Sequential\n",
    "from keras.layers import Dense\n",
    "\n",
    "model = Sequential()\n",
    "model.add(Dense(512, activation='relu', input_dim=505))\n",
    "model.add(Dense(512, activation='relu'))\n",
    "model.add(Dense(1, activation='sigmoid'))"
   ]
  },
  {
   "cell_type": "code",
   "execution_count": 14,
   "metadata": {},
   "outputs": [
    {
     "name": "stdout",
     "output_type": "stream",
     "text": [
      "Model: \"sequential\"\n",
      "_________________________________________________________________\n",
      " Layer (type)                Output Shape              Param #   \n",
      "=================================================================\n",
      " dense (Dense)               (None, 512)               259072    \n",
      "                                                                 \n",
      " dense_1 (Dense)             (None, 512)               262656    \n",
      "                                                                 \n",
      " dense_2 (Dense)             (None, 1)                 513       \n",
      "                                                                 \n",
      "=================================================================\n",
      "Total params: 522241 (1.99 MB)\n",
      "Trainable params: 522241 (1.99 MB)\n",
      "Non-trainable params: 0 (0.00 Byte)\n",
      "_________________________________________________________________\n"
     ]
    }
   ],
   "source": [
    "model.summary()"
   ]
  },
  {
   "cell_type": "code",
   "execution_count": 15,
   "metadata": {},
   "outputs": [],
   "source": [
    "model.compile(loss='binary_crossentropy',\n",
    "              optimizer='adam',\n",
    "              metrics=['accuracy'])\n"
   ]
  },
  {
   "cell_type": "code",
   "execution_count": 16,
   "metadata": {},
   "outputs": [],
   "source": [
    "from keras.callbacks import ModelCheckpoint\n",
    "checkpoint = ModelCheckpoint('weights_best.hdf5',\n",
    "                             save_weights_only=True,save_best_only=True,\n",
    "                             monitor='val_loss',\n",
    "                             mode='min')"
   ]
  },
  {
   "cell_type": "code",
   "execution_count": 17,
   "metadata": {},
   "outputs": [
    {
     "name": "stdout",
     "output_type": "stream",
     "text": [
      "Epoch 1/50\n",
      "120/120 [==============================] - 2s 14ms/step - loss: 0.2215 - accuracy: 0.9233 - val_loss: 0.0436 - val_accuracy: 0.9900\n",
      "Epoch 2/50\n",
      "120/120 [==============================] - 1s 12ms/step - loss: 0.0298 - accuracy: 0.9927 - val_loss: 0.0240 - val_accuracy: 0.9945\n",
      "Epoch 3/50\n",
      "120/120 [==============================] - 1s 11ms/step - loss: 0.0203 - accuracy: 0.9951 - val_loss: 0.0224 - val_accuracy: 0.9968\n",
      "Epoch 4/50\n",
      "120/120 [==============================] - 1s 10ms/step - loss: 0.0175 - accuracy: 0.9957 - val_loss: 0.0165 - val_accuracy: 0.9961\n",
      "Epoch 5/50\n",
      "120/120 [==============================] - 1s 10ms/step - loss: 0.0150 - accuracy: 0.9964 - val_loss: 0.0178 - val_accuracy: 0.9952\n",
      "Epoch 6/50\n",
      "120/120 [==============================] - 1s 10ms/step - loss: 0.0135 - accuracy: 0.9967 - val_loss: 0.0148 - val_accuracy: 0.9975\n",
      "Epoch 7/50\n",
      "120/120 [==============================] - 1s 10ms/step - loss: 0.0123 - accuracy: 0.9972 - val_loss: 0.0158 - val_accuracy: 0.9975\n",
      "Epoch 8/50\n",
      "120/120 [==============================] - 1s 11ms/step - loss: 0.0118 - accuracy: 0.9972 - val_loss: 0.0158 - val_accuracy: 0.9977\n",
      "Epoch 9/50\n",
      "120/120 [==============================] - 1s 11ms/step - loss: 0.0127 - accuracy: 0.9969 - val_loss: 0.0129 - val_accuracy: 0.9971\n",
      "Epoch 10/50\n",
      "120/120 [==============================] - 1s 11ms/step - loss: 0.0109 - accuracy: 0.9974 - val_loss: 0.0119 - val_accuracy: 0.9977\n",
      "Epoch 11/50\n",
      "120/120 [==============================] - 1s 11ms/step - loss: 0.0109 - accuracy: 0.9974 - val_loss: 0.0126 - val_accuracy: 0.9975\n",
      "Epoch 12/50\n",
      "120/120 [==============================] - 1s 11ms/step - loss: 0.0105 - accuracy: 0.9975 - val_loss: 0.0110 - val_accuracy: 0.9980\n",
      "Epoch 13/50\n",
      "120/120 [==============================] - 1s 10ms/step - loss: 0.0101 - accuracy: 0.9976 - val_loss: 0.0111 - val_accuracy: 0.9980\n",
      "Epoch 14/50\n",
      "120/120 [==============================] - 1s 11ms/step - loss: 0.0109 - accuracy: 0.9973 - val_loss: 0.0123 - val_accuracy: 0.9973\n",
      "Epoch 15/50\n",
      "120/120 [==============================] - 1s 11ms/step - loss: 0.0097 - accuracy: 0.9977 - val_loss: 0.0108 - val_accuracy: 0.9980\n",
      "Epoch 16/50\n",
      "120/120 [==============================] - 1s 11ms/step - loss: 0.0097 - accuracy: 0.9977 - val_loss: 0.0109 - val_accuracy: 0.9976\n",
      "Epoch 17/50\n",
      "120/120 [==============================] - 1s 11ms/step - loss: 0.0107 - accuracy: 0.9974 - val_loss: 0.0107 - val_accuracy: 0.9981\n",
      "Epoch 18/50\n",
      "120/120 [==============================] - 1s 11ms/step - loss: 0.0095 - accuracy: 0.9978 - val_loss: 0.0112 - val_accuracy: 0.9977\n",
      "Epoch 19/50\n",
      "120/120 [==============================] - 1s 11ms/step - loss: 0.0092 - accuracy: 0.9978 - val_loss: 0.0116 - val_accuracy: 0.9976\n",
      "Epoch 20/50\n",
      "120/120 [==============================] - 1s 11ms/step - loss: 0.0092 - accuracy: 0.9977 - val_loss: 0.0106 - val_accuracy: 0.9978\n",
      "Epoch 21/50\n",
      "120/120 [==============================] - 1s 10ms/step - loss: 0.0094 - accuracy: 0.9978 - val_loss: 0.0113 - val_accuracy: 0.9979\n",
      "Epoch 22/50\n",
      "120/120 [==============================] - 1s 11ms/step - loss: 0.0086 - accuracy: 0.9979 - val_loss: 0.0129 - val_accuracy: 0.9972\n",
      "Epoch 23/50\n",
      "120/120 [==============================] - 1s 11ms/step - loss: 0.0090 - accuracy: 0.9979 - val_loss: 0.0119 - val_accuracy: 0.9974\n",
      "Epoch 24/50\n",
      "120/120 [==============================] - 1s 11ms/step - loss: 0.0096 - accuracy: 0.9976 - val_loss: 0.0122 - val_accuracy: 0.9975\n",
      "Epoch 25/50\n",
      "120/120 [==============================] - 1s 10ms/step - loss: 0.0092 - accuracy: 0.9978 - val_loss: 0.0111 - val_accuracy: 0.9975\n",
      "Epoch 26/50\n",
      "120/120 [==============================] - 1s 10ms/step - loss: 0.0084 - accuracy: 0.9980 - val_loss: 0.0108 - val_accuracy: 0.9977\n",
      "Epoch 27/50\n",
      "120/120 [==============================] - 1s 11ms/step - loss: 0.0077 - accuracy: 0.9982 - val_loss: 0.0099 - val_accuracy: 0.9981\n",
      "Epoch 28/50\n",
      "120/120 [==============================] - 1s 11ms/step - loss: 0.0097 - accuracy: 0.9977 - val_loss: 0.0132 - val_accuracy: 0.9969\n",
      "Epoch 29/50\n",
      "120/120 [==============================] - 1s 11ms/step - loss: 0.0086 - accuracy: 0.9980 - val_loss: 0.0104 - val_accuracy: 0.9978\n",
      "Epoch 30/50\n",
      "120/120 [==============================] - 1s 10ms/step - loss: 0.0089 - accuracy: 0.9979 - val_loss: 0.0101 - val_accuracy: 0.9981\n",
      "Epoch 31/50\n",
      "120/120 [==============================] - 1s 9ms/step - loss: 0.0088 - accuracy: 0.9979 - val_loss: 0.0123 - val_accuracy: 0.9973\n",
      "Epoch 32/50\n",
      "120/120 [==============================] - 1s 11ms/step - loss: 0.0082 - accuracy: 0.9981 - val_loss: 0.0099 - val_accuracy: 0.9981\n",
      "Epoch 33/50\n",
      "120/120 [==============================] - 1s 11ms/step - loss: 0.0075 - accuracy: 0.9983 - val_loss: 0.0128 - val_accuracy: 0.9974\n",
      "Epoch 34/50\n",
      "120/120 [==============================] - 1s 11ms/step - loss: 0.0083 - accuracy: 0.9979 - val_loss: 0.0112 - val_accuracy: 0.9978\n",
      "Epoch 35/50\n",
      "120/120 [==============================] - 1s 11ms/step - loss: 0.0085 - accuracy: 0.9980 - val_loss: 0.0099 - val_accuracy: 0.9981\n",
      "Epoch 36/50\n",
      "120/120 [==============================] - 1s 11ms/step - loss: 0.0076 - accuracy: 0.9982 - val_loss: 0.0105 - val_accuracy: 0.9979\n",
      "Epoch 37/50\n",
      "120/120 [==============================] - 1s 11ms/step - loss: 0.0079 - accuracy: 0.9980 - val_loss: 0.0133 - val_accuracy: 0.9975\n",
      "Epoch 38/50\n",
      "120/120 [==============================] - 1s 12ms/step - loss: 0.0081 - accuracy: 0.9980 - val_loss: 0.0110 - val_accuracy: 0.9977\n",
      "Epoch 39/50\n",
      "120/120 [==============================] - 1s 12ms/step - loss: 0.0072 - accuracy: 0.9983 - val_loss: 0.0097 - val_accuracy: 0.9980\n",
      "Epoch 40/50\n",
      "120/120 [==============================] - 1s 11ms/step - loss: 0.0077 - accuracy: 0.9982 - val_loss: 0.0113 - val_accuracy: 0.9978\n",
      "Epoch 41/50\n",
      "120/120 [==============================] - 1s 11ms/step - loss: 0.0070 - accuracy: 0.9983 - val_loss: 0.0099 - val_accuracy: 0.9982\n",
      "Epoch 42/50\n",
      "120/120 [==============================] - 1s 11ms/step - loss: 0.0077 - accuracy: 0.9981 - val_loss: 0.0122 - val_accuracy: 0.9978\n",
      "Epoch 43/50\n",
      "120/120 [==============================] - 1s 12ms/step - loss: 0.0081 - accuracy: 0.9980 - val_loss: 0.0120 - val_accuracy: 0.9973\n",
      "Epoch 44/50\n",
      "120/120 [==============================] - 1s 12ms/step - loss: 0.0086 - accuracy: 0.9979 - val_loss: 0.0112 - val_accuracy: 0.9976\n",
      "Epoch 45/50\n",
      "120/120 [==============================] - 1s 11ms/step - loss: 0.0071 - accuracy: 0.9984 - val_loss: 0.0129 - val_accuracy: 0.9974\n",
      "Epoch 46/50\n",
      "120/120 [==============================] - 1s 11ms/step - loss: 0.0077 - accuracy: 0.9981 - val_loss: 0.0099 - val_accuracy: 0.9982\n",
      "Epoch 47/50\n",
      "120/120 [==============================] - 1s 12ms/step - loss: 0.0078 - accuracy: 0.9980 - val_loss: 0.0101 - val_accuracy: 0.9980\n",
      "Epoch 48/50\n",
      "120/120 [==============================] - 1s 11ms/step - loss: 0.0074 - accuracy: 0.9982 - val_loss: 0.0106 - val_accuracy: 0.9981\n",
      "Epoch 49/50\n",
      "120/120 [==============================] - 1s 11ms/step - loss: 0.0082 - accuracy: 0.9981 - val_loss: 0.0106 - val_accuracy: 0.9981\n",
      "Epoch 50/50\n",
      "120/120 [==============================] - 1s 11ms/step - loss: 0.0071 - accuracy: 0.9983 - val_loss: 0.0100 - val_accuracy: 0.9982\n"
     ]
    }
   ],
   "source": [
    "# Train model\n",
    "history = model.fit(X_train, y_train,\n",
    "          epochs=50,\n",
    "          batch_size=1000,\n",
    "          validation_data=(X_val, y_val),callbacks=[checkpoint])"
   ]
  },
  {
   "cell_type": "code",
   "execution_count": 18,
   "metadata": {},
   "outputs": [
    {
     "name": "stdout",
     "output_type": "stream",
     "text": [
      "1250/1250 [==============================] - 2s 2ms/step\n",
      "AUC =  0.9997904764579348\n"
     ]
    }
   ],
   "source": [
    "y_out=model.predict(X_test)\n",
    "# Get ROC curve\n",
    "fpr, tpr, thresholds = roc_curve(y_test[:], y_out[:])\n",
    "\n",
    "# Calculate AUC\n",
    "roc_auc = auc(fpr, tpr)\n",
    "\n",
    "print(\"AUC = \", roc_auc)"
   ]
  },
  {
   "cell_type": "markdown",
   "metadata": {},
   "source": [
    "# Evaluate on data it was trained on (with fixed energy)"
   ]
  },
  {
   "cell_type": "code",
   "execution_count": 19,
   "metadata": {},
   "outputs": [],
   "source": [
    "model.load_weights('weights_best.hdf5')"
   ]
  },
  {
   "cell_type": "code",
   "execution_count": 20,
   "metadata": {},
   "outputs": [],
   "source": [
    "def combine_test_files(data1, data2):\n",
    "\n",
    "    np.random.shuffle(data1)\n",
    "    np.random.shuffle(data2)\n",
    "    val = np.concatenate([data1, data2], axis=0)\n",
    "    np.random.shuffle(val)\n",
    "    return val"
   ]
  },
  {
   "cell_type": "code",
   "execution_count": 21,
   "metadata": {},
   "outputs": [],
   "source": [
    "mass = 5\n",
    "lifetime = 1\n",
    "sig_data = h5py.File(\"files_fixed_disp/lifetime_\"+str(lifetime)+\"ns_\"+str(mass)+\"GeV.hdf5\")"
   ]
  },
  {
   "cell_type": "code",
   "execution_count": 22,
   "metadata": {},
   "outputs": [],
   "source": [
    "bg_data = h5py.File(\"data_files_for_AD/gamma_2.hdf5\")"
   ]
  },
  {
   "cell_type": "code",
   "execution_count": 23,
   "metadata": {},
   "outputs": [],
   "source": [
    "X_eval,y_eval = create_dataset_wlabels(sig_data,bg_data)"
   ]
  },
  {
   "cell_type": "code",
   "execution_count": 24,
   "metadata": {},
   "outputs": [
    {
     "name": "stdout",
     "output_type": "stream",
     "text": [
      "6250/6250 [==============================] - 11s 2ms/step\n"
     ]
    }
   ],
   "source": [
    "y_out=model.predict(X_eval)"
   ]
  },
  {
   "cell_type": "code",
   "execution_count": 25,
   "metadata": {},
   "outputs": [
    {
     "name": "stdout",
     "output_type": "stream",
     "text": [
      "AUC =  0.99976325675\n"
     ]
    }
   ],
   "source": [
    "# Get ROC curve\n",
    "fpr, tpr, thresholds = roc_curve(y_eval[:], y_out[:])\n",
    "\n",
    "# Calculate AUC\n",
    "roc_auc = auc(fpr, tpr)\n",
    "\n",
    "print(\"AUC = \", roc_auc)"
   ]
  },
  {
   "cell_type": "code",
   "execution_count": 26,
   "metadata": {},
   "outputs": [],
   "source": [
    "roc = np.array([fpr,tpr])"
   ]
  },
  {
   "cell_type": "code",
   "execution_count": 27,
   "metadata": {},
   "outputs": [],
   "source": [
    "np.savetxt(\"lifetime_1ns_5GeV_heavy_roc.txt\", roc)"
   ]
  },
  {
   "cell_type": "code",
   "execution_count": 28,
   "metadata": {},
   "outputs": [
    {
     "data": {
      "image/png": "[encoded data removed]",
      "text/plain": [
       "<Figure size 640x480 with 1 Axes>"
      ]
     },
     "metadata": {},
     "output_type": "display_data"
    }
   ],
   "source": [
    "# Plot ROC curve\n",
    "plt.plot(fpr, tpr, label='ROC curve (AUC = %0.2f)' % roc_auc)\n",
    "plt.legend()\n",
    "plt.title('ROC Curve (5 GeV)')\n",
    "plt.xlabel('False Positive Rate')\n",
    "plt.ylabel('True Positive Rate')\n",
    "plt.show()"
   ]
  },
  {
   "cell_type": "markdown",
   "metadata": {},
   "source": [
    "# Evaluate on other data (with fixed energy)"
   ]
  },
  {
   "cell_type": "code",
   "execution_count": 99,
   "metadata": {},
   "outputs": [],
   "source": [
    "mass = 0.005\n",
    "lifetime = 1\n",
    "sig_data = h5py.File(\"files_fixed_disp/lifetime_\"+str(lifetime)+\"ns_\"+str(mass)+\"GeV.hdf5\")\n",
    "name = \"lifetime_\"+str(lifetime)+\"ns_\"+str(mass)+\"GeV\""
   ]
  },
  {
   "cell_type": "code",
   "execution_count": 100,
   "metadata": {},
   "outputs": [],
   "source": [
    "sig_data = h5py.File(\"files_fixed_disp/\"+name+\".hdf5\")"
   ]
  },
  {
   "cell_type": "code",
   "execution_count": 101,
   "metadata": {},
   "outputs": [],
   "source": [
    "X_eval,y_eval = create_dataset_wlabels(sig_data,bg_data)"
   ]
  },
  {
   "cell_type": "code",
   "execution_count": 102,
   "metadata": {},
   "outputs": [
    {
     "name": "stdout",
     "output_type": "stream",
     "text": [
      "6250/6250 [==============================] - 10s 2ms/step\n"
     ]
    }
   ],
   "source": [
    "y_out=model.predict(X_eval)"
   ]
  },
  {
   "cell_type": "code",
   "execution_count": 103,
   "metadata": {},
   "outputs": [
    {
     "name": "stdout",
     "output_type": "stream",
     "text": [
      "AUC =  0.65295615335\n"
     ]
    }
   ],
   "source": [
    "# Get ROC curve\n",
    "fpr, tpr, thresholds = roc_curve(y_eval[:], y_out[:])\n",
    "\n",
    "# Calculate AUC\n",
    "roc_auc = auc(fpr, tpr)\n",
    "\n",
    "print(\"AUC = \", roc_auc)"
   ]
  },
  {
   "cell_type": "code",
   "execution_count": 104,
   "metadata": {},
   "outputs": [],
   "source": [
    "roc = np.array([fpr,tpr])\n",
    "roc_filename = name+\"_heavy_roc.txt\"\n",
    "np.savetxt(roc_filename, roc)"
   ]
  },
  {
   "cell_type": "code",
   "execution_count": 105,
   "metadata": {},
   "outputs": [
    {
     "data": {
      "image/png": "[encoded data removed]",
      "text/plain": [
       "<Figure size 640x480 with 1 Axes>"
      ]
     },
     "metadata": {},
     "output_type": "display_data"
    }
   ],
   "source": [
    "# Plot ROC curve\n",
    "plt.plot(fpr, tpr, label='ROC curve (AUC = %0.2f)' % roc_auc)\n",
    "plt.legend()\n",
    "plt.title('ROC Curve')\n",
    "plt.xlabel('False Positive Rate')\n",
    "plt.ylabel('True Positive Rate')\n",
    "plt.show()"
   ]
  },
  {
   "cell_type": "code",
   "execution_count": null,
   "metadata": {},
   "outputs": [],
   "source": []
  }
 ],
 "metadata": {
  "kernelspec": {
   "display_name": "Python 3 (ipykernel)",
   "language": "python",
   "name": "python3"
  },
  "language_info": {
   "codemirror_mode": {
    "name": "ipython",
    "version": 3
   },
   "file_extension": ".py",
   "mimetype": "text/x-python",
   "name": "python",
   "nbconvert_exporter": "python",
   "pygments_lexer": "ipython3",
   "version": "3.11.4"
  }
 },
 "nbformat": 4,
 "nbformat_minor": 4
}
