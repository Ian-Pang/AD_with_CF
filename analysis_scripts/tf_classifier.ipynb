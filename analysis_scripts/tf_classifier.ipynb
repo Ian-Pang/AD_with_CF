{
 "cells": [
  {
   "cell_type": "code",
   "execution_count": 8,
   "metadata": {},
   "outputs": [],
   "source": [
    "import numpy as np\n",
    "import matplotlib.pyplot as plt\n",
    "import h5py\n",
    "import os\n",
    "from sklearn.metrics import accuracy_score\n",
    "from sklearn.metrics import roc_auc_score\n",
    "from sklearn.metrics import roc_curve\n",
    "from sklearn.metrics import auc\n",
    "from sklearn.model_selection import train_test_split"
   ]
  },
  {
   "cell_type": "code",
   "execution_count": 9,
   "metadata": {},
   "outputs": [],
   "source": [
    "os.environ[\"CUDA_VISIBLE_DEVICES\"]=\"0\""
   ]
  },
  {
   "cell_type": "code",
   "execution_count": 10,
   "metadata": {},
   "outputs": [],
   "source": [
    "sig_data = h5py.File(\"data_files_for_AD/lifetime_1ns_0.005GeV.hdf5\")"
   ]
  },
  {
   "cell_type": "code",
   "execution_count": 11,
   "metadata": {},
   "outputs": [],
   "source": [
    "bg_data = h5py.File(\"data_files_for_AD/gamma_1.hdf5\")"
   ]
  },
  {
   "cell_type": "code",
   "execution_count": 12,
   "metadata": {},
   "outputs": [
    {
     "data": {
      "text/plain": [
       "<KeysViewHDF5 ['energy', 'layer_0', 'layer_1', 'layer_2', 'overflow']>"
      ]
     },
     "execution_count": 12,
     "metadata": {},
     "output_type": "execute_result"
    }
   ],
   "source": [
    "sig_data.keys()"
   ]
  },
  {
   "cell_type": "code",
   "execution_count": 13,
   "metadata": {},
   "outputs": [],
   "source": [
    "def create_dataset_wlabels(sig_data,bg_data):\n",
    "    sig_layer_0 = sig_data['layer_0'][:]/1e3\n",
    "    sig_layer_1 = sig_data['layer_1'][:]/1e3\n",
    "    sig_layer_2 = sig_data['layer_2'][:]/1e3\n",
    "    \n",
    "    sig_E0 = sig_layer_0.sum(axis=(-1, -2))\n",
    "    sig_E1 = sig_layer_1.sum(axis=(-1, -2))                    \n",
    "    sig_E2 = sig_layer_2.sum(axis=(-1, -2))\n",
    "              \n",
    "    sig_Edep = (sig_E0 + sig_E1 + sig_E2).reshape(-1,1)\n",
    "    sig_Einc = sig_Edep/0.937\n",
    "    #sig_Einc = sig_data['energy'][:]+mass\n",
    "    \n",
    "    sig_layer_0 = sig_layer_0.reshape(-1,288)\n",
    "    sig_layer_1 = sig_layer_1.reshape(-1,144)\n",
    "    sig_layer_2 = sig_layer_2.reshape(-1,72)\n",
    "    \n",
    "    sig_voxels = np.concatenate((sig_layer_0,sig_layer_1,sig_layer_2),axis=1)\n",
    "    \n",
    "    bg_layer_0 = bg_data['layer_0'][:]/1e3\n",
    "    bg_layer_1 = bg_data['layer_1'][:]/1e3\n",
    "    bg_layer_2 = bg_data['layer_2'][:]/1e3\n",
    "                             \n",
    "    bg_E0 = bg_layer_0.sum(axis=(-1, -2))\n",
    "    bg_E1 = bg_layer_1.sum(axis=(-1, -2))                       \n",
    "    bg_E2 = bg_layer_2.sum(axis=(-1, -2))\n",
    "    \n",
    "    bg_Edep = (bg_E0 + bg_E1 + bg_E2).reshape(-1,1)\n",
    "    #bg_Einc = bg_data['energy'][:]\n",
    "    bg_Einc = bg_Edep/0.937\n",
    "    \n",
    "    bg_layer_0 = bg_layer_0.reshape(-1,288)\n",
    "    bg_layer_1 = bg_layer_1.reshape(-1,144)\n",
    "    bg_layer_2 = bg_layer_2.reshape(-1,72)\n",
    "    \n",
    "    bg_voxels = np.concatenate((bg_layer_0,bg_layer_1,bg_layer_2),axis=1)\n",
    "    \n",
    "    sig_voxels = sig_voxels/(sig_Einc.reshape(-1,1)+1e-16)\n",
    "    bg_voxels = bg_voxels/(bg_Einc.reshape(-1,1)+1e-16)\n",
    "    \n",
    "    final_sig_data = np.concatenate([np.log10(sig_Einc.reshape(-1,1)+1e-16), sig_voxels], axis=1)\n",
    "    final_bg_data = np.concatenate([np.log10(bg_Einc.reshape(-1,1)+1e-16), bg_voxels], axis=1)\n",
    "    \n",
    "    sig_labels = np.ones_like(sig_Einc.reshape(-1,1))\n",
    "    bg_labels = np.zeros_like(bg_Einc.reshape(-1,1))\n",
    "\n",
    "    X = np.concatenate([final_sig_data,final_bg_data],axis=0)\n",
    "    y = np.concatenate([sig_labels,bg_labels],axis=0)\n",
    "\n",
    "    return X, y"
   ]
  },
  {
   "cell_type": "code",
   "execution_count": 14,
   "metadata": {},
   "outputs": [],
   "source": [
    "mass = 0.005\n",
    "X,y = create_dataset_wlabels(sig_data,bg_data)\n",
    "X_train, X_test, y_train, y_test = train_test_split(X, y, test_size=0.2, random_state=1)\n",
    "X_train, X_val, y_train, y_val = train_test_split(X_train, y_train, test_size=0.25, random_state=1)"
   ]
  },
  {
   "cell_type": "code",
   "execution_count": 15,
   "metadata": {},
   "outputs": [
    {
     "name": "stdout",
     "output_type": "stream",
     "text": [
      "X_train shape:  (120000, 505)\n",
      "X_val shape:  (40000, 505)\n",
      "X_test shape:  (40000, 505)\n",
      "y_train shape:  (120000, 1)\n",
      "y_val shape:  (40000, 1)\n",
      "y_test shape:  (40000, 1)\n"
     ]
    }
   ],
   "source": [
    "print(\"X_train shape: \",X_train.shape)\n",
    "print(\"X_val shape: \",X_val.shape)\n",
    "print(\"X_test shape: \",X_test.shape)\n",
    "\n",
    "print(\"y_train shape: \",y_train.shape)\n",
    "print(\"y_val shape: \",y_val.shape)\n",
    "print(\"y_test shape: \",y_test.shape)"
   ]
  },
  {
   "cell_type": "code",
   "execution_count": 16,
   "metadata": {},
   "outputs": [
    {
     "name": "stderr",
     "output_type": "stream",
     "text": [
      "2023-12-15 07:51:00.753368: I tensorflow/core/platform/cpu_feature_guard.cc:182] This TensorFlow binary is optimized to use available CPU instructions in performance-critical operations.\n",
      "To enable the following instructions: AVX2 AVX512F FMA, in other operations, rebuild TensorFlow with the appropriate compiler flags.\n",
      "2023-12-15 07:51:11.482416: W tensorflow/compiler/tf2tensorrt/utils/py_utils.cc:38] TF-TRT Warning: Could not find TensorRT\n",
      "2023-12-15 07:51:24.225319: W tensorflow/core/common_runtime/gpu/gpu_device.cc:1960] Cannot dlopen some GPU libraries. Please make sure the missing libraries mentioned above are installed properly if you would like to use GPU. Follow the guide at https://www.tensorflow.org/install/gpu for how to download and setup the required libraries for your platform.\n",
      "Skipping registering GPU devices...\n"
     ]
    }
   ],
   "source": [
    "from keras.models import Sequential\n",
    "from keras.layers import Dense\n",
    "\n",
    "model = Sequential()\n",
    "model.add(Dense(512, activation='relu', input_dim=505))\n",
    "model.add(Dense(512, activation='relu'))\n",
    "model.add(Dense(1, activation='sigmoid'))"
   ]
  },
  {
   "cell_type": "code",
   "execution_count": 17,
   "metadata": {},
   "outputs": [
    {
     "name": "stdout",
     "output_type": "stream",
     "text": [
      "Model: \"sequential\"\n",
      "_________________________________________________________________\n",
      " Layer (type)                Output Shape              Param #   \n",
      "=================================================================\n",
      " dense (Dense)               (None, 512)               259072    \n",
      "                                                                 \n",
      " dense_1 (Dense)             (None, 512)               262656    \n",
      "                                                                 \n",
      " dense_2 (Dense)             (None, 1)                 513       \n",
      "                                                                 \n",
      "=================================================================\n",
      "Total params: 522241 (1.99 MB)\n",
      "Trainable params: 522241 (1.99 MB)\n",
      "Non-trainable params: 0 (0.00 Byte)\n",
      "_________________________________________________________________\n"
     ]
    }
   ],
   "source": [
    "model.summary()"
   ]
  },
  {
   "cell_type": "code",
   "execution_count": 18,
   "metadata": {},
   "outputs": [],
   "source": [
    "model.compile(loss='binary_crossentropy',\n",
    "              optimizer='adam',\n",
    "              metrics=['accuracy'])\n"
   ]
  },
  {
   "cell_type": "code",
   "execution_count": 19,
   "metadata": {},
   "outputs": [],
   "source": [
    "from keras.callbacks import ModelCheckpoint\n",
    "checkpoint = ModelCheckpoint('weights_best.hdf5',\n",
    "                             save_weights_only=True,save_best_only=True,\n",
    "                             monitor='val_loss',\n",
    "                             mode='min')"
   ]
  },
  {
   "cell_type": "code",
   "execution_count": 20,
   "metadata": {
    "scrolled": true
   },
   "outputs": [
    {
     "name": "stdout",
     "output_type": "stream",
     "text": [
      "Epoch 1/50\n",
      "120/120 [==============================] - 3s 13ms/step - loss: 0.6322 - accuracy: 0.6035 - val_loss: 0.6080 - val_accuracy: 0.6218\n",
      "Epoch 2/50\n",
      "120/120 [==============================] - 1s 10ms/step - loss: 0.6009 - accuracy: 0.6318 - val_loss: 0.5953 - val_accuracy: 0.6410\n",
      "Epoch 3/50\n",
      "120/120 [==============================] - 1s 10ms/step - loss: 0.5949 - accuracy: 0.6357 - val_loss: 0.5930 - val_accuracy: 0.6409\n",
      "Epoch 4/50\n",
      "120/120 [==============================] - 1s 11ms/step - loss: 0.5929 - accuracy: 0.6370 - val_loss: 0.5923 - val_accuracy: 0.6405\n",
      "Epoch 5/50\n",
      "120/120 [==============================] - 1s 12ms/step - loss: 0.5917 - accuracy: 0.6387 - val_loss: 0.5975 - val_accuracy: 0.6381\n",
      "Epoch 6/50\n",
      "120/120 [==============================] - 1s 11ms/step - loss: 0.5914 - accuracy: 0.6385 - val_loss: 0.5919 - val_accuracy: 0.6409\n",
      "Epoch 7/50\n",
      "120/120 [==============================] - 1s 11ms/step - loss: 0.5928 - accuracy: 0.6375 - val_loss: 0.5942 - val_accuracy: 0.6381\n",
      "Epoch 8/50\n",
      "120/120 [==============================] - 1s 11ms/step - loss: 0.5912 - accuracy: 0.6390 - val_loss: 0.5915 - val_accuracy: 0.6415\n",
      "Epoch 9/50\n",
      "120/120 [==============================] - 1s 11ms/step - loss: 0.5910 - accuracy: 0.6381 - val_loss: 0.5912 - val_accuracy: 0.6433\n",
      "Epoch 10/50\n",
      "120/120 [==============================] - 1s 11ms/step - loss: 0.5913 - accuracy: 0.6383 - val_loss: 0.5923 - val_accuracy: 0.6416\n",
      "Epoch 11/50\n",
      "120/120 [==============================] - 1s 10ms/step - loss: 0.5908 - accuracy: 0.6392 - val_loss: 0.5915 - val_accuracy: 0.6417\n",
      "Epoch 12/50\n",
      "120/120 [==============================] - 1s 12ms/step - loss: 0.5905 - accuracy: 0.6393 - val_loss: 0.5909 - val_accuracy: 0.6419\n",
      "Epoch 13/50\n",
      "120/120 [==============================] - 1s 10ms/step - loss: 0.5906 - accuracy: 0.6382 - val_loss: 0.5912 - val_accuracy: 0.6416\n",
      "Epoch 14/50\n",
      "120/120 [==============================] - 1s 10ms/step - loss: 0.5889 - accuracy: 0.6411 - val_loss: 0.5906 - val_accuracy: 0.6421\n",
      "Epoch 15/50\n",
      "120/120 [==============================] - 1s 11ms/step - loss: 0.5887 - accuracy: 0.6409 - val_loss: 0.5932 - val_accuracy: 0.6402\n",
      "Epoch 16/50\n",
      "120/120 [==============================] - 1s 11ms/step - loss: 0.5887 - accuracy: 0.6403 - val_loss: 0.5894 - val_accuracy: 0.6425\n",
      "Epoch 17/50\n",
      "120/120 [==============================] - 1s 11ms/step - loss: 0.5891 - accuracy: 0.6399 - val_loss: 0.5894 - val_accuracy: 0.6405\n",
      "Epoch 18/50\n",
      "120/120 [==============================] - 1s 10ms/step - loss: 0.5883 - accuracy: 0.6406 - val_loss: 0.5898 - val_accuracy: 0.6403\n",
      "Epoch 19/50\n",
      "120/120 [==============================] - 1s 10ms/step - loss: 0.5875 - accuracy: 0.6417 - val_loss: 0.5986 - val_accuracy: 0.6316\n",
      "Epoch 20/50\n",
      "120/120 [==============================] - 1s 11ms/step - loss: 0.5881 - accuracy: 0.6409 - val_loss: 0.5895 - val_accuracy: 0.6435\n",
      "Epoch 21/50\n",
      "120/120 [==============================] - 1s 11ms/step - loss: 0.5881 - accuracy: 0.6421 - val_loss: 0.5892 - val_accuracy: 0.6412\n",
      "Epoch 22/50\n",
      "120/120 [==============================] - 1s 10ms/step - loss: 0.5879 - accuracy: 0.6413 - val_loss: 0.5929 - val_accuracy: 0.6374\n",
      "Epoch 23/50\n",
      "120/120 [==============================] - 1s 12ms/step - loss: 0.5872 - accuracy: 0.6423 - val_loss: 0.5882 - val_accuracy: 0.6411\n",
      "Epoch 24/50\n",
      "120/120 [==============================] - 1s 10ms/step - loss: 0.5869 - accuracy: 0.6424 - val_loss: 0.5932 - val_accuracy: 0.6391\n",
      "Epoch 25/50\n",
      "120/120 [==============================] - 1s 11ms/step - loss: 0.5859 - accuracy: 0.6430 - val_loss: 0.5882 - val_accuracy: 0.6419\n",
      "Epoch 26/50\n",
      "120/120 [==============================] - 1s 10ms/step - loss: 0.5866 - accuracy: 0.6432 - val_loss: 0.5901 - val_accuracy: 0.6420\n",
      "Epoch 27/50\n",
      "120/120 [==============================] - 1s 10ms/step - loss: 0.5865 - accuracy: 0.6423 - val_loss: 0.5887 - val_accuracy: 0.6413\n",
      "Epoch 28/50\n",
      "120/120 [==============================] - 1s 11ms/step - loss: 0.5854 - accuracy: 0.6437 - val_loss: 0.5899 - val_accuracy: 0.6422\n",
      "Epoch 29/50\n",
      "120/120 [==============================] - 1s 10ms/step - loss: 0.5864 - accuracy: 0.6429 - val_loss: 0.5882 - val_accuracy: 0.6407\n",
      "Epoch 30/50\n",
      "120/120 [==============================] - 1s 11ms/step - loss: 0.5862 - accuracy: 0.6430 - val_loss: 0.5883 - val_accuracy: 0.6427\n",
      "Epoch 31/50\n",
      "120/120 [==============================] - 1s 11ms/step - loss: 0.5853 - accuracy: 0.6440 - val_loss: 0.5878 - val_accuracy: 0.6431\n",
      "Epoch 32/50\n",
      "120/120 [==============================] - 1s 10ms/step - loss: 0.5869 - accuracy: 0.6430 - val_loss: 0.5904 - val_accuracy: 0.6424\n",
      "Epoch 33/50\n",
      "120/120 [==============================] - 1s 11ms/step - loss: 0.5852 - accuracy: 0.6441 - val_loss: 0.5873 - val_accuracy: 0.6439\n",
      "Epoch 34/50\n",
      "120/120 [==============================] - 1s 11ms/step - loss: 0.5849 - accuracy: 0.6443 - val_loss: 0.5870 - val_accuracy: 0.6425\n",
      "Epoch 35/50\n",
      "120/120 [==============================] - 1s 10ms/step - loss: 0.5836 - accuracy: 0.6452 - val_loss: 0.5887 - val_accuracy: 0.6448\n",
      "Epoch 36/50\n",
      "120/120 [==============================] - 1s 10ms/step - loss: 0.5838 - accuracy: 0.6446 - val_loss: 0.5892 - val_accuracy: 0.6424\n",
      "Epoch 37/50\n",
      "120/120 [==============================] - 1s 10ms/step - loss: 0.5839 - accuracy: 0.6454 - val_loss: 0.5870 - val_accuracy: 0.6421\n",
      "Epoch 38/50\n",
      "120/120 [==============================] - 1s 10ms/step - loss: 0.5833 - accuracy: 0.6460 - val_loss: 0.5874 - val_accuracy: 0.6444\n",
      "Epoch 39/50\n",
      "120/120 [==============================] - 1s 10ms/step - loss: 0.5834 - accuracy: 0.6470 - val_loss: 0.5909 - val_accuracy: 0.6400\n",
      "Epoch 40/50\n",
      "120/120 [==============================] - 1s 10ms/step - loss: 0.5844 - accuracy: 0.6450 - val_loss: 0.5877 - val_accuracy: 0.6449\n",
      "Epoch 41/50\n",
      "120/120 [==============================] - 1s 9ms/step - loss: 0.5833 - accuracy: 0.6457 - val_loss: 0.5913 - val_accuracy: 0.6420\n",
      "Epoch 42/50\n",
      "120/120 [==============================] - 1s 10ms/step - loss: 0.5827 - accuracy: 0.6472 - val_loss: 0.5897 - val_accuracy: 0.6395\n",
      "Epoch 43/50\n",
      "120/120 [==============================] - 1s 9ms/step - loss: 0.5828 - accuracy: 0.6459 - val_loss: 0.5894 - val_accuracy: 0.6423\n",
      "Epoch 44/50\n",
      "120/120 [==============================] - 1s 11ms/step - loss: 0.5820 - accuracy: 0.6475 - val_loss: 0.5884 - val_accuracy: 0.6456\n",
      "Epoch 45/50\n",
      "120/120 [==============================] - 1s 11ms/step - loss: 0.5818 - accuracy: 0.6483 - val_loss: 0.5863 - val_accuracy: 0.6446\n",
      "Epoch 46/50\n",
      "120/120 [==============================] - 1s 11ms/step - loss: 0.5818 - accuracy: 0.6472 - val_loss: 0.5865 - val_accuracy: 0.6448\n",
      "Epoch 47/50\n",
      "120/120 [==============================] - 1s 11ms/step - loss: 0.5814 - accuracy: 0.6486 - val_loss: 0.5876 - val_accuracy: 0.6432\n",
      "Epoch 48/50\n",
      "120/120 [==============================] - 1s 11ms/step - loss: 0.5814 - accuracy: 0.6468 - val_loss: 0.5865 - val_accuracy: 0.6457\n",
      "Epoch 49/50\n",
      "120/120 [==============================] - 1s 10ms/step - loss: 0.5805 - accuracy: 0.6492 - val_loss: 0.5887 - val_accuracy: 0.6453\n",
      "Epoch 50/50\n",
      "120/120 [==============================] - 1s 10ms/step - loss: 0.5803 - accuracy: 0.6500 - val_loss: 0.5894 - val_accuracy: 0.6442\n"
     ]
    }
   ],
   "source": [
    "# Train model\n",
    "history = model.fit(X_train, y_train,\n",
    "          epochs=50,\n",
    "          batch_size=1000,\n",
    "          validation_data=(X_val, y_val),callbacks=[checkpoint])"
   ]
  },
  {
   "cell_type": "code",
   "execution_count": 21,
   "metadata": {},
   "outputs": [
    {
     "name": "stdout",
     "output_type": "stream",
     "text": [
      "1250/1250 [==============================] - 2s 2ms/step\n",
      "AUC =  0.6993085168049482\n"
     ]
    }
   ],
   "source": [
    "y_out=model.predict(X_test)\n",
    "# Get ROC curve\n",
    "fpr, tpr, thresholds = roc_curve(y_test[:], y_out[:])\n",
    "\n",
    "# Calculate AUC\n",
    "roc_auc = auc(fpr, tpr)\n",
    "\n",
    "print(\"AUC = \", roc_auc)"
   ]
  },
  {
   "cell_type": "markdown",
   "metadata": {},
   "source": [
    "# Evaluate on data it was trained on (with fixed energy)"
   ]
  },
  {
   "cell_type": "code",
   "execution_count": 22,
   "metadata": {},
   "outputs": [],
   "source": [
    "model.load_weights('weights_best.hdf5')"
   ]
  },
  {
   "cell_type": "code",
   "execution_count": 23,
   "metadata": {},
   "outputs": [],
   "source": [
    "def combine_test_files(data1, data2):\n",
    "\n",
    "    np.random.shuffle(data1)\n",
    "    np.random.shuffle(data2)\n",
    "    val = np.concatenate([data1, data2], axis=0)\n",
    "    np.random.shuffle(val)\n",
    "    return val"
   ]
  },
  {
   "cell_type": "code",
   "execution_count": 24,
   "metadata": {},
   "outputs": [],
   "source": [
    "mass = 0.005\n",
    "lifetime = 1\n",
    "sig_data = h5py.File(\"files_fixed_disp/lifetime_\"+str(lifetime)+\"ns_\"+str(mass)+\"GeV.hdf5\")"
   ]
  },
  {
   "cell_type": "code",
   "execution_count": 25,
   "metadata": {},
   "outputs": [],
   "source": [
    "bg_data = h5py.File(\"data_files_for_AD/gamma_2.hdf5\")"
   ]
  },
  {
   "cell_type": "code",
   "execution_count": 26,
   "metadata": {},
   "outputs": [],
   "source": [
    "X_eval,y_eval = create_dataset_wlabels(sig_data,bg_data)"
   ]
  },
  {
   "cell_type": "code",
   "execution_count": 27,
   "metadata": {},
   "outputs": [
    {
     "name": "stdout",
     "output_type": "stream",
     "text": [
      "6250/6250 [==============================] - 11s 2ms/step\n"
     ]
    }
   ],
   "source": [
    "y_out=model.predict(X_eval)"
   ]
  },
  {
   "cell_type": "code",
   "execution_count": 28,
   "metadata": {},
   "outputs": [
    {
     "name": "stdout",
     "output_type": "stream",
     "text": [
      "AUC =  0.71337922805\n"
     ]
    }
   ],
   "source": [
    "# Get ROC curve\n",
    "fpr, tpr, thresholds = roc_curve(y_eval[:], y_out[:])\n",
    "\n",
    "# Calculate AUC\n",
    "roc_auc = auc(fpr, tpr)\n",
    "\n",
    "print(\"AUC = \", roc_auc)"
   ]
  },
  {
   "cell_type": "code",
   "execution_count": 29,
   "metadata": {},
   "outputs": [],
   "source": [
    "roc = np.array([fpr,tpr])"
   ]
  },
  {
   "cell_type": "code",
   "execution_count": 30,
   "metadata": {},
   "outputs": [],
   "source": [
    "np.savetxt(\"lifetime_1ns_0.005GeV_roc.txt\", roc)"
   ]
  },
  {
   "cell_type": "code",
   "execution_count": 31,
   "metadata": {},
   "outputs": [
    {
     "data": {
      "image/png": "[encoded data removed]",
      "text/plain": [
       "<Figure size 640x480 with 1 Axes>"
      ]
     },
     "metadata": {},
     "output_type": "display_data"
    }
   ],
   "source": [
    "# Plot ROC curve\n",
    "plt.plot(fpr, tpr, label='ROC curve (AUC = %0.2f)' % roc_auc)\n",
    "plt.legend()\n",
    "plt.title('ROC Curve (0.005 GeV)')\n",
    "plt.xlabel('False Positive Rate')\n",
    "plt.ylabel('True Positive Rate')\n",
    "plt.show()"
   ]
  },
  {
   "cell_type": "markdown",
   "metadata": {},
   "source": [
    "# Evaluate on other data (with fixed energy)"
   ]
  },
  {
   "cell_type": "code",
   "execution_count": 103,
   "metadata": {},
   "outputs": [],
   "source": [
    "mass = 5\n",
    "lifetime = 1\n",
    "sig_data = h5py.File(\"files_fixed_disp/lifetime_\"+str(lifetime)+\"ns_\"+str(mass)+\"GeV.hdf5\")\n",
    "name = \"lifetime_\"+str(lifetime)+\"ns_\"+str(mass)+\"GeV\""
   ]
  },
  {
   "cell_type": "code",
   "execution_count": 104,
   "metadata": {},
   "outputs": [],
   "source": [
    "sig_data = h5py.File(\"files_fixed_disp/\"+name+\".hdf5\")"
   ]
  },
  {
   "cell_type": "code",
   "execution_count": 105,
   "metadata": {},
   "outputs": [],
   "source": [
    "X_eval,y_eval = create_dataset_wlabels(sig_data,bg_data)"
   ]
  },
  {
   "cell_type": "code",
   "execution_count": 106,
   "metadata": {},
   "outputs": [
    {
     "name": "stdout",
     "output_type": "stream",
     "text": [
      "6250/6250 [==============================] - 11s 2ms/step\n"
     ]
    }
   ],
   "source": [
    "y_out=model.predict(X_eval)"
   ]
  },
  {
   "cell_type": "code",
   "execution_count": 107,
   "metadata": {},
   "outputs": [
    {
     "name": "stdout",
     "output_type": "stream",
     "text": [
      "AUC =  0.8637026304\n"
     ]
    }
   ],
   "source": [
    "# Get ROC curve\n",
    "fpr, tpr, thresholds = roc_curve(y_eval[:], y_out[:])\n",
    "\n",
    "# Calculate AUC\n",
    "roc_auc = auc(fpr, tpr)\n",
    "\n",
    "print(\"AUC = \", roc_auc)"
   ]
  },
  {
   "cell_type": "code",
   "execution_count": 108,
   "metadata": {},
   "outputs": [],
   "source": [
    "roc = np.array([fpr,tpr])\n",
    "roc_filename = name+\"_roc.txt\"\n",
    "np.savetxt(roc_filename, roc)"
   ]
  },
  {
   "cell_type": "code",
   "execution_count": 109,
   "metadata": {},
   "outputs": [
    {
     "data": {
      "image/png": "[encoded data removed]",
      "text/plain": [
       "<Figure size 640x480 with 1 Axes>"
      ]
     },
     "metadata": {},
     "output_type": "display_data"
    }
   ],
   "source": [
    "# Plot ROC curve\n",
    "plt.plot(fpr, tpr, label='ROC curve (AUC = %0.2f)' % roc_auc)\n",
    "plt.legend()\n",
    "plt.title('ROC Curve')\n",
    "plt.xlabel('False Positive Rate')\n",
    "plt.ylabel('True Positive Rate')\n",
    "plt.show()"
   ]
  },
  {
   "cell_type": "code",
   "execution_count": null,
   "metadata": {},
   "outputs": [],
   "source": []
  }
 ],
 "metadata": {
  "kernelspec": {
   "display_name": "Python 3 (ipykernel)",
   "language": "python",
   "name": "python3"
  },
  "language_info": {
   "codemirror_mode": {
    "name": "ipython",
    "version": 3
   },
   "file_extension": ".py",
   "mimetype": "text/x-python",
   "name": "python",
   "nbconvert_exporter": "python",
   "pygments_lexer": "ipython3",
   "version": "3.11.4"
  }
 },
 "nbformat": 4,
 "nbformat_minor": 4
}
